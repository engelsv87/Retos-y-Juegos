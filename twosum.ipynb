{
  "nbformat": 4,
  "nbformat_minor": 0,
  "metadata": {
    "colab": {
      "provenance": [],
      "authorship_tag": "ABX9TyOCE+NOrUE8LGIUi9AHC2u7",
      "include_colab_link": true
    },
    "kernelspec": {
      "name": "python3",
      "display_name": "Python 3"
    },
    "language_info": {
      "name": "python"
    }
  },
  "cells": [
    {
      "cell_type": "markdown",
      "metadata": {
        "id": "view-in-github",
        "colab_type": "text"
      },
      "source": [
        "<a href=\"https://colab.research.google.com/github/engelsv87/Retos-y-Juegos/blob/main/twosum.ipynb\" target=\"_parent\"><img src=\"https://colab.research.google.com/assets/colab-badge.svg\" alt=\"Open In Colab\"/></a>"
      ]
    },
    {
      "cell_type": "markdown",
      "source": [
        "Suma de dos números dentro de una lista para obtener un valor predefinido, devuelve la posición que ocupan los números dentro de la lista."
      ],
      "metadata": {
        "id": "lDnDx2f0TZqd"
      }
    },
    {
      "cell_type": "code",
      "source": [
        "def twosum(list, target):\n",
        "\n",
        "  for i in list:\n",
        "    for j in list:\n",
        "      sum= i+j\n",
        "\n",
        "      if sum == target:\n",
        "       return list.index(i), list.index(j), i, j\n",
        "       break\n"
      ],
      "metadata": {
        "id": "N6AensLuwdkz"
      },
      "execution_count": 1,
      "outputs": []
    },
    {
      "cell_type": "code",
      "source": [
        "list = [2, 3, 5, 6, 1]\n",
        "\n",
        "target = 8\n",
        "\n",
        "c,d,e,f = twosum(list, target)\n",
        "\n",
        "print('El numero {} en la posición {} \\nmas el numero {} en la posicion {}\\n'\n",
        "      'de la lista son los que suman el valor de target {}'.format(e, c,  f, d, target))"
      ],
      "metadata": {
        "colab": {
          "base_uri": "https://localhost:8080/"
        },
        "id": "iIVp5R1NoIY7",
        "outputId": "4139ef84-87c9-4199-bebe-f1022ffae38b"
      },
      "execution_count": 6,
      "outputs": [
        {
          "output_type": "stream",
          "name": "stdout",
          "text": [
            "El numero 2 en la posición 0 \n",
            "mas el numero 6 en la posicion 3\n",
            "de la lista son los que suman el valor de target 8\n"
          ]
        }
      ]
    }
  ]
}